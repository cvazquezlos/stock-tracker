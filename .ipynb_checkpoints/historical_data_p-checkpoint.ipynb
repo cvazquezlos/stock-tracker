{
 "cells": [
  {
   "cell_type": "markdown",
   "metadata": {},
   "source": [
    "## Process that downloads the historical data of stock market of Technology industry."
   ]
  },
  {
   "cell_type": "markdown",
   "metadata": {},
   "source": [
    "#### Imports"
   ]
  },
  {
   "cell_type": "code",
   "execution_count": null,
   "metadata": {},
   "outputs": [],
   "source": [
    "from bs4 import BeautifulSoup\n",
    "from pandas_datareader import data as pdr\n",
    "import json\n",
    "import os\n",
    "import pandas as pd\n",
    "import quandl\n",
    "import requests\n",
    "import time\n",
    "import fix_yahoo_finance as yf"
   ]
  },
  {
   "cell_type": "markdown",
   "metadata": {},
   "source": [
    "#### Global variables and constants"
   ]
  },
  {
   "cell_type": "code",
   "execution_count": null,
   "metadata": {},
   "outputs": [],
   "source": [
    "PATH_PROJECT = os.getcwd()\n",
    "POSTGRES_DB = 'stock-tracker'\n",
    "POSTGRES_USER = 'postgres'\n",
    "POSTGRES_PASS = 'Yj18pQ-$20'\n",
    "queued_stocks = []"
   ]
  },
  {
   "cell_type": "markdown",
   "metadata": {},
   "source": [
    "#### 1. Download the symbol list of Technology industry"
   ]
  },
  {
   "cell_type": "code",
   "execution_count": 1,
   "metadata": {},
   "outputs": [],
   "source": [
    "def technology_stocks():\n",
    "    headers = {\n",
    "        'user-agent': 'Mozilla/5.0 (Macintosh; Intel Mac OS X 10_11_6) AppleWebKit/537.36 (KHTML, like Gecko) Chrome/53.0.2785.143 Safari/537.36'\n",
    "    }\n",
    "    try:\n",
    "        base_url = 'https://api.iextrading.com/1.0/stock/market/collection/sector?collectionName=Technology'\n",
    "        r = requests.get(base_url, headers = headers)\n",
    "        if r.status_code == 200:\n",
    "            src = BeautifulSoup(r.text, 'lxml')\n",
    "            stock_list = json.loads(src.find('p').text)\n",
    "            stocks = [stock[\"symbol\"] for stock in stock_list]\n",
    "            return stocks\n",
    "        else:\n",
    "            return None\n",
    "    except Exception as ex:\n",
    "        return None"
   ]
  },
  {
   "cell_type": "markdown",
   "metadata": {},
   "source": [
    "#### 2. Download the historical data of the stock symbols of Technology industry (one by one to ease the upload to DB)"
   ]
  },
  {
   "cell_type": "code",
   "execution_count": null,
   "metadata": {},
   "outputs": [],
   "source": [
    "def historical_report(stock, start_date, end_date):\n",
    "    yf.pdr_override()\n",
    "    try:\n",
    "        data = pdr.get_data_yahoo(\n",
    "            stock, \n",
    "            start = start_date, \n",
    "            end = end_date, \n",
    "            progress = False\n",
    "        )\n",
    "        data['Stock'] = stock\n",
    "        return data\n",
    "    except Exception as ex:\n",
    "        print('Yahoo Finance collapse downloading {stock} data. Adding to queue to continue once the correct downloads end...')\n",
    "        queued_stocks.append(stock)"
   ]
  },
  {
   "cell_type": "markdown",
   "metadata": {},
   "source": [
    "#### 3. Upload historical data to PostgreSQL database"
   ]
  },
  {
   "cell_type": "code",
   "execution_count": null,
   "metadata": {},
   "outputs": [],
   "source": [
    "def upload_historical(name):\n",
    "    conn = None\n",
    "    commands = (f\"\"\"SELECT EXISTS(\n",
    "            SELECT 1 FROM information_schema.tables\n",
    "            WHERE table_catalog = {POSTGRES_DB}\n",
    "                  table_schema = 'public'\n",
    "                  table_name = {name}\n",
    "        )\"\"\", f\"\"\"CREATE TABLE {name} (\n",
    "            open        double precision NOT NULL,\n",
    "            high        double precision NOT NULL,\n",
    "            low         double precision NOT NULL,\n",
    "            close       double precision NOT NULL,\n",
    "            adj_close   double precision NOT NULL,\n",
    "            volume      integer NOT NULL,\n",
    "            stock       varchar(10) NOT NULL,\n",
    "            date_d      varchar(10) NOT NULL\n",
    "        )\"\"\")\n",
    "    try:\n",
    "        conn = psycopg2.connect(f'dbname={POSTGRES_DB} user={POSTGRES_USER} password={POSTGRES_PASS}')\n",
    "        cur = conn.cursor()\n",
    "        cur.execute(commands[0])\n",
    "        if (cur.fetchone()[0]):\n",
    "            print('Table already exists.')\n",
    "        else:\n",
    "            cur.execute(commands[1])\n",
    "        \n",
    "        cur.close()\n",
    "        conn.commit()\n",
    "    except (Exception, psycopg2.DatabaseError) as ex:\n",
    "        print(str(ex))\n",
    "    finally:\n",
    "        if conn is not None:\n",
    "            conn.close()"
   ]
  },
  {
   "cell_type": "code",
   "execution_count": 6,
   "metadata": {},
   "outputs": [
    {
     "name": "stdout",
     "output_type": "stream",
     "text": [
      "Heeeey hola\n"
     ]
    }
   ],
   "source": [
    "sssss = \"hola\"\n",
    "print(f\"Heeeey {sssss}\")"
   ]
  }
 ],
 "metadata": {
  "kernelspec": {
   "display_name": "Python 3",
   "language": "python",
   "name": "python3"
  },
  "language_info": {
   "codemirror_mode": {
    "name": "ipython",
    "version": 3
   },
   "file_extension": ".py",
   "mimetype": "text/x-python",
   "name": "python",
   "nbconvert_exporter": "python",
   "pygments_lexer": "ipython3",
   "version": "3.6.6"
  }
 },
 "nbformat": 4,
 "nbformat_minor": 2
}
