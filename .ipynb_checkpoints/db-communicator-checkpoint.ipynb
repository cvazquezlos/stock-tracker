{
 "cells": [
  {
   "cell_type": "markdown",
   "metadata": {},
   "source": [
    "## Database comunication script.\n",
    "\n",
    "#### Imports"
   ]
  },
  {
   "cell_type": "code",
   "execution_count": null,
   "metadata": {},
   "outputs": [],
   "source": [
    "import psycopg2"
   ]
  },
  {
   "cell_type": "markdown",
   "metadata": {},
   "source": [
    "#### Global variables and constants"
   ]
  },
  {
   "cell_type": "code",
   "execution_count": null,
   "metadata": {},
   "outputs": [],
   "source": [
    "POSTGRES_SCHM = 'public'\n",
    "POSTGRES_USER = 'postgres'\n",
    "POSTGRES_PASS = 'Yj18pQ-$20'"
   ]
  },
  {
   "cell_type": "markdown",
   "metadata": {},
   "source": [
    "#### Functions"
   ]
  },
  {
   "cell_type": "code",
   "execution_count": null,
   "metadata": {},
   "outputs": [],
   "source": [
    "def execute_no_inserts(command, db_name):\n",
    "    conn = None\n",
    "    status = 1\n",
    "    try:\n",
    "        conn = psycopg2.connect('dbname=%s user=%s password=%s' % (db_name, POSTGRES_USER, POSTGRES_PASS))\n",
    "        cur = conn.cursor()\n",
    "        cur.execute(command)\n",
    "        cur.close()\n",
    "        conn.commit()\n",
    "    except:\n",
    "        status = 0\n",
    "    finally:\n",
    "        if conn is not None:\n",
    "            conn.close()\n",
    "        return status"
   ]
  }
 ],
 "metadata": {
  "kernelspec": {
   "display_name": "Python 3",
   "language": "python",
   "name": "python3"
  },
  "language_info": {
   "codemirror_mode": {
    "name": "ipython",
    "version": 3
   },
   "file_extension": ".py",
   "mimetype": "text/x-python",
   "name": "python",
   "nbconvert_exporter": "python",
   "pygments_lexer": "ipython3",
   "version": "3.6.5"
  }
 },
 "nbformat": 4,
 "nbformat_minor": 2
}
