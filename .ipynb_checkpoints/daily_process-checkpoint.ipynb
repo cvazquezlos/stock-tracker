{
 "cells": [
  {
   "cell_type": "markdown",
   "metadata": {},
   "source": [
    "## This process extracts the information about all IT stock markets from Yahoo Finance daily and then save them properly in a DB.\n",
    "\n",
    "#### Global variables and imports"
   ]
  },
  {
   "cell_type": "code",
   "execution_count": 1,
   "metadata": {},
   "outputs": [],
   "source": [
    "from bs4 import BeautifulSoup\n",
    "from datetime import date, timedelta\n",
    "from pandas_datareader import data as pdr\n",
    "from random import randint\n",
    "from time import sleep\n",
    "import fix_yahoo_finance as yf\n",
    "import json\n",
    "import os\n",
    "import requests\n",
    "import time\n",
    "\n",
    "\n",
    "PATH_PROJECT = os.getcwd()"
   ]
  },
  {
   "cell_type": "markdown",
   "metadata": {},
   "source": [
    "#### 1. Extraction of all Technology stocks."
   ]
  },
  {
   "cell_type": "code",
   "execution_count": 2,
   "metadata": {},
   "outputs": [],
   "source": [
    "def technology_stocks():\n",
    "    index = 1\n",
    "    stocks = []\n",
    "    headers = {\n",
    "        'user-agent': 'Mozilla/5.0 (Macintosh; Intel Mac OS X 10_11_6) AppleWebKit/537.36 (KHTML, like Gecko) Chrome/53.0.2785.143 Safari/537.36'\n",
    "    }\n",
    "    while (True):\n",
    "        try:\n",
    "            base_url = 'https://www.marketwatch.com/tools/industry/stocklist.asp?bcind_ind=9000&bcind_index=' + str(index) +'&bcind_period=3mo&bcind_compidx='\n",
    "            sleep(randint(0, 20))\n",
    "            r = requests.get(base_url, headers = headers)\n",
    "            if r.status_code == 200:\n",
    "                src = BeautifulSoup(r.text, 'lxml')\n",
    "                tables = src.find_all('table')\n",
    "                target_table = None\n",
    "                for table in tables:\n",
    "                    if 'Symbol' in str(table):\n",
    "                        target_table = table\n",
    "                symbols = target_table.find_all('a', {'class': 'lk01'})\n",
    "                if len(symbols) == 0:\n",
    "                    break\n",
    "                clean_symbols = []\n",
    "                for symbol in symbols:\n",
    "                    clean_symbols.append(symbol.text)\n",
    "                stocks.extend(clean_symbols)\n",
    "                index += 50\n",
    "            else:\n",
    "                break\n",
    "        except Exception as ex:\n",
    "            break\n",
    "    return stocks"
   ]
  },
  {
   "cell_type": "markdown",
   "metadata": {},
   "source": [
    "#### 2. Using Yahoo Finance to obtain the daily data of each stock."
   ]
  },
  {
   "cell_type": "code",
   "execution_count": 3,
   "metadata": {},
   "outputs": [],
   "source": [
    "def daily_report(stocks, date):\n",
    "    yf.pdr_override()\n",
    "    data = pdr.get_data_yahoo(\n",
    "        tickers = stocks,\n",
    "        start = date,\n",
    "        as_panel = False,\n",
    "        group_by = 'ticker',\n",
    "        progress = False\n",
    "    )\n",
    "    return data"
   ]
  },
  {
   "cell_type": "code",
   "execution_count": 4,
   "metadata": {
    "scrolled": true
   },
   "outputs": [
    {
     "ename": "NameError",
     "evalue": "name 'filename' is not defined",
     "output_type": "error",
     "traceback": [
      "\u001b[1;31m---------------------------------------------------------------------------\u001b[0m",
      "\u001b[1;31mNameError\u001b[0m                                 Traceback (most recent call last)",
      "\u001b[1;32m<ipython-input-4-c37c2e712a88>\u001b[0m in \u001b[0;36m<module>\u001b[1;34m()\u001b[0m\n\u001b[0;32m      4\u001b[0m \u001b[0mdaily_data\u001b[0m\u001b[1;33m.\u001b[0m\u001b[0mto_csv\u001b[0m\u001b[1;33m(\u001b[0m\u001b[1;33m)\u001b[0m\u001b[1;33m\u001b[0m\u001b[0m\n\u001b[0;32m      5\u001b[0m \u001b[0mfile_name\u001b[0m \u001b[1;33m=\u001b[0m \u001b[0mPATH_PROJECT\u001b[0m \u001b[1;33m+\u001b[0m \u001b[1;34m'/'\u001b[0m \u001b[1;33m+\u001b[0m \u001b[0myesterday\u001b[0m \u001b[1;33m+\u001b[0m \u001b[1;34m'.csv'\u001b[0m\u001b[1;33m\u001b[0m\u001b[0m\n\u001b[1;32m----> 6\u001b[1;33m \u001b[0mdaily_data\u001b[0m\u001b[1;33m.\u001b[0m\u001b[0mto_csv\u001b[0m\u001b[1;33m(\u001b[0m\u001b[0mfilename\u001b[0m\u001b[1;33m,\u001b[0m \u001b[0mindex\u001b[0m \u001b[1;33m=\u001b[0m \u001b[1;32mFalse\u001b[0m\u001b[1;33m,\u001b[0m \u001b[0mmode\u001b[0m \u001b[1;33m=\u001b[0m \u001b[1;34m\"a\"\u001b[0m\u001b[1;33m,\u001b[0m \u001b[0mheader\u001b[0m \u001b[1;33m=\u001b[0m \u001b[1;33m(\u001b[0m\u001b[1;32mnot\u001b[0m \u001b[0mos\u001b[0m\u001b[1;33m.\u001b[0m\u001b[0mpath\u001b[0m\u001b[1;33m.\u001b[0m\u001b[0mexists\u001b[0m\u001b[1;33m(\u001b[0m\u001b[0mfilename\u001b[0m\u001b[1;33m)\u001b[0m\u001b[1;33m)\u001b[0m\u001b[1;33m,\u001b[0m \u001b[0mencoding\u001b[0m \u001b[1;33m=\u001b[0m \u001b[1;34m\"latin-1\"\u001b[0m\u001b[1;33m,\u001b[0m \u001b[0msep\u001b[0m \u001b[1;33m=\u001b[0m \u001b[1;34m\";\"\u001b[0m\u001b[1;33m)\u001b[0m\u001b[1;33m\u001b[0m\u001b[0m\n\u001b[0m",
      "\u001b[1;31mNameError\u001b[0m: name 'filename' is not defined"
     ]
    }
   ],
   "source": [
    "stocks = technology_stocks()\n",
    "yesterday = (date.today() - timedelta(1)).strftime(\"%Y-%m-%d\")\n",
    "daily_data = daily_report(stocks, yesterday)\n",
    "daily_data.to_csv()\n",
    "filename = PATH_PROJECT + '/' + yesterday + '.csv'\n",
    "daily_data.to_csv(filename, index = False, mode = \"a\", header = (not os.path.exists(filename)), encoding = \"latin-1\", sep = \";\")"
   ]
  },
  {
   "cell_type": "code",
   "execution_count": null,
   "metadata": {
    "scrolled": true
   },
   "outputs": [],
   "source": [
    "daily_data"
   ]
  },
  {
   "cell_type": "code",
   "execution_count": null,
   "metadata": {},
   "outputs": [],
   "source": [
    "stocks"
   ]
  }
 ],
 "metadata": {
  "kernelspec": {
   "display_name": "Python 3",
   "language": "python",
   "name": "python3"
  },
  "language_info": {
   "codemirror_mode": {
    "name": "ipython",
    "version": 3
   },
   "file_extension": ".py",
   "mimetype": "text/x-python",
   "name": "python",
   "nbconvert_exporter": "python",
   "pygments_lexer": "ipython3",
   "version": "3.6.3"
  }
 },
 "nbformat": 4,
 "nbformat_minor": 2
}
