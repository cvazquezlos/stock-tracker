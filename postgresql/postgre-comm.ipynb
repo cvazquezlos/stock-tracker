{
 "cells": [
  {
   "cell_type": "code",
   "execution_count": 1,
   "metadata": {},
   "outputs": [],
   "source": [
    "import os\n",
    "import pandas as pd\n",
    "import psycopg2\n",
    "\n",
    "#http://www.postgresqltutorial.com/postgresql-python/\n",
    "PATH_PROJECT = os.getcwd()\n",
    "\n",
    "def create_table(conn, name):\n",
    "    cur = conn.cursor()\n",
    "    command = \"\"\"CREATE TABLE %s (\n",
    "        open        double precision NOT NULL,\n",
    "        high        double precision NOT NULL,\n",
    "        low         double precision NOT NULL,\n",
    "        close       double precision NOT NULL,\n",
    "        adj_close   double precision NOT NULL,\n",
    "        volume      integer NOT NULL,\n",
    "        stock       varchar(10) NOT NULL,\n",
    "        date_d      varchar(10) NOT NULL\n",
    "    )\"\"\" % name\n",
    "    cur.execute(command)\n",
    "    cur.close()\n",
    "    conn.commit()\n",
    "    \n",
    "def save_data(conn, table_name):\n",
    "    cur = conn.cursor()\n",
    "    with open(PATH_PROJECT + '/stocks_historical_data.csv') as f:\n",
    "        next(f)\n",
    "        cur.copy_from(f, table_name, sep = '\\t')\n",
    "    cur.close()\n",
    "    conn.commit()"
   ]
  },
  {
   "cell_type": "code",
   "execution_count": 2,
   "metadata": {},
   "outputs": [],
   "source": [
    "conn = psycopg2.connect('dbname=stock-tracker user=postgres password=Yj18pQ-$20')\n",
    "create_table(conn, 'stocks_historical_data')\n",
    "save_data(conn, 'stocks_historical_data')"
   ]
  }
 ],
 "metadata": {
  "kernelspec": {
   "display_name": "Python 3",
   "language": "python",
   "name": "python3"
  },
  "language_info": {
   "codemirror_mode": {
    "name": "ipython",
    "version": 3
   },
   "file_extension": ".py",
   "mimetype": "text/x-python",
   "name": "python",
   "nbconvert_exporter": "python",
   "pygments_lexer": "ipython3",
   "version": "3.6.3"
  }
 },
 "nbformat": 4,
 "nbformat_minor": 2
}
