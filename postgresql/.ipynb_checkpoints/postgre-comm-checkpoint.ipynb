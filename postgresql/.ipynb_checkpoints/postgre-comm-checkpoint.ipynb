{
 "cells": [
  {
   "cell_type": "code",
   "execution_count": 1,
   "metadata": {},
   "outputs": [],
   "source": [
    "import os\n",
    "import pandas as pd\n",
    "import psycopg2\n",
    "\n",
    "#http://www.postgresqltutorial.com/postgresql-python/\n",
    "PATH_PROJECT = os.getcwd()\n",
    "\n",
    "def create_table(conn, name):\n",
    "    cur = conn.cursor()\n",
    "    command = \"\"\"CREATE TABLE %s (\n",
    "        open        double precision NOT NULL,\n",
    "        high        double precision NOT NULL,\n",
    "        low         double precision NOT NULL,\n",
    "        close       double precision NOT NULL,\n",
    "        adj_close   double precision NOT NULL,\n",
    "        volume      integer NOT NULL,\n",
    "        stock       varchar(10) NOT NULL,\n",
    "        date_d      varchar(10) NOT NULL\n",
    "    )\"\"\" % name\n",
    "    cur.execute(command)\n",
    "    cur.close()\n",
    "    conn.commit()\n",
    "    \n",
    "def save_data(conn, table_name):\n",
    "    cur = conn.cursor()\n",
    "    with open(PATH_PROJECT + '/stocks_historical_data.csv') as f:\n",
    "        next(f)\n",
    "        cur.copy_from(f, table_name, sep = '\\t')\n",
    "    cur.close()\n",
    "    conn.commit()"
   ]
  },
  {
   "cell_type": "code",
   "execution_count": 2,
   "metadata": {},
   "outputs": [
    {
     "ename": "DataError",
     "evalue": "la sintaxis de entrada no es válida para tipo double precision: «open»\nCONTEXT:  COPY stocks_historical_data, line 1, column open: \"open\"\n",
     "output_type": "error",
     "traceback": [
      "\u001b[1;31m---------------------------------------------------------------------------\u001b[0m",
      "\u001b[1;31mDataError\u001b[0m                                 Traceback (most recent call last)",
      "\u001b[1;32m<ipython-input-2-07184982a932>\u001b[0m in \u001b[0;36m<module>\u001b[1;34m()\u001b[0m\n\u001b[0;32m      1\u001b[0m \u001b[0mconn\u001b[0m \u001b[1;33m=\u001b[0m \u001b[0mpsycopg2\u001b[0m\u001b[1;33m.\u001b[0m\u001b[0mconnect\u001b[0m\u001b[1;33m(\u001b[0m\u001b[1;34m'dbname=stock-tracker user=postgres password=Yj18pQ-$20'\u001b[0m\u001b[1;33m)\u001b[0m\u001b[1;33m\u001b[0m\u001b[0m\n\u001b[0;32m      2\u001b[0m \u001b[0mcreate_table\u001b[0m\u001b[1;33m(\u001b[0m\u001b[0mconn\u001b[0m\u001b[1;33m,\u001b[0m \u001b[1;34m'stocks_historical_data'\u001b[0m\u001b[1;33m)\u001b[0m\u001b[1;33m\u001b[0m\u001b[0m\n\u001b[1;32m----> 3\u001b[1;33m \u001b[0msave_data\u001b[0m\u001b[1;33m(\u001b[0m\u001b[0mconn\u001b[0m\u001b[1;33m,\u001b[0m \u001b[1;34m'stocks_historical_data'\u001b[0m\u001b[1;33m)\u001b[0m\u001b[1;33m\u001b[0m\u001b[0m\n\u001b[0m",
      "\u001b[1;32m<ipython-input-1-18f7d6b9489d>\u001b[0m in \u001b[0;36msave_data\u001b[1;34m(conn, table_name)\u001b[0m\n\u001b[0;32m     25\u001b[0m     \u001b[0mcur\u001b[0m \u001b[1;33m=\u001b[0m \u001b[0mconn\u001b[0m\u001b[1;33m.\u001b[0m\u001b[0mcursor\u001b[0m\u001b[1;33m(\u001b[0m\u001b[1;33m)\u001b[0m\u001b[1;33m\u001b[0m\u001b[0m\n\u001b[0;32m     26\u001b[0m     \u001b[1;32mwith\u001b[0m \u001b[0mopen\u001b[0m\u001b[1;33m(\u001b[0m\u001b[0mPATH_PROJECT\u001b[0m \u001b[1;33m+\u001b[0m \u001b[1;34m'/stocks_historical_data.csv'\u001b[0m\u001b[1;33m)\u001b[0m \u001b[1;32mas\u001b[0m \u001b[0mf\u001b[0m\u001b[1;33m:\u001b[0m\u001b[1;33m\u001b[0m\u001b[0m\n\u001b[1;32m---> 27\u001b[1;33m         \u001b[0mcur\u001b[0m\u001b[1;33m.\u001b[0m\u001b[0mcopy_from\u001b[0m\u001b[1;33m(\u001b[0m\u001b[0mf\u001b[0m\u001b[1;33m,\u001b[0m \u001b[0mtable_name\u001b[0m\u001b[1;33m,\u001b[0m \u001b[0msep\u001b[0m \u001b[1;33m=\u001b[0m \u001b[1;34m'\\t'\u001b[0m\u001b[1;33m)\u001b[0m\u001b[1;33m\u001b[0m\u001b[0m\n\u001b[0m\u001b[0;32m     28\u001b[0m     \u001b[0mcur\u001b[0m\u001b[1;33m.\u001b[0m\u001b[0mclose\u001b[0m\u001b[1;33m(\u001b[0m\u001b[1;33m)\u001b[0m\u001b[1;33m\u001b[0m\u001b[0m\n\u001b[0;32m     29\u001b[0m     \u001b[0mconn\u001b[0m\u001b[1;33m.\u001b[0m\u001b[0mcommit\u001b[0m\u001b[1;33m(\u001b[0m\u001b[1;33m)\u001b[0m\u001b[1;33m\u001b[0m\u001b[0m\n",
      "\u001b[1;31mDataError\u001b[0m: la sintaxis de entrada no es válida para tipo double precision: «open»\nCONTEXT:  COPY stocks_historical_data, line 1, column open: \"open\"\n"
     ]
    }
   ],
   "source": [
    "conn = psycopg2.connect('dbname=stock-tracker user=postgres password=Yj18pQ-$20')\n",
    "create_table(conn, 'stocks_historical_data')\n",
    "save_data(conn, 'stocks_historical_data')"
   ]
  },
  {
   "cell_type": "code",
   "execution_count": null,
   "metadata": {},
   "outputs": [],
   "source": [
    "df"
   ]
  }
 ],
 "metadata": {
  "kernelspec": {
   "display_name": "Python 3",
   "language": "python",
   "name": "python3"
  },
  "language_info": {
   "codemirror_mode": {
    "name": "ipython",
    "version": 3
   },
   "file_extension": ".py",
   "mimetype": "text/x-python",
   "name": "python",
   "nbconvert_exporter": "python",
   "pygments_lexer": "ipython3",
   "version": "3.6.3"
  }
 },
 "nbformat": 4,
 "nbformat_minor": 2
}
