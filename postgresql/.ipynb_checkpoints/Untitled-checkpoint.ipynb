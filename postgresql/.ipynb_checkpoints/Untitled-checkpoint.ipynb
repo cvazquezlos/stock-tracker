{
 "cells": [
  {
   "cell_type": "code",
   "execution_count": 3,
   "metadata": {},
   "outputs": [],
   "source": [
    "import psycopg2\n",
    "\n",
    "#http://www.postgresqltutorial.com/postgresql-python/\n",
    "conn = psycopg2.connect('dbname=stock-tracker user=postgres password=Yj18pQ-$20')\n",
    "cur = conn.cursor()\n",
    "\n",
    "def create_table(cur, name):\n",
    "    command = \"\"\"CREATE TABLE ${name} (\n",
    "        DATE_D      date PRIMARY KEY NOT NULL,\n",
    "        OPEN        real NOT NULL,\n",
    "        HIGH        real NOT NULL,\n",
    "        LOW         real NOT NULL,\n",
    "        CLOSE       real NOT NULL,\n",
    "        ADJ_CLOSE   real NOT NULL,\n",
    "        VOLUME      real NOT NULL\n",
    "    )\"\"\""
   ]
  }
 ],
 "metadata": {
  "kernelspec": {
   "display_name": "Python 3",
   "language": "python",
   "name": "python3"
  },
  "language_info": {
   "codemirror_mode": {
    "name": "ipython",
    "version": 3
   },
   "file_extension": ".py",
   "mimetype": "text/x-python",
   "name": "python",
   "nbconvert_exporter": "python",
   "pygments_lexer": "ipython3",
   "version": "3.6.3"
  }
 },
 "nbformat": 4,
 "nbformat_minor": 2
}
